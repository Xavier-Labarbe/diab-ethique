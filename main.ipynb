{
 "cells": [
  {
   "cell_type": "code",
   "execution_count": 2,
   "metadata": {
    "collapsed": true,
    "pycharm": {
     "name": "#%%\n"
    }
   },
   "outputs": [],
   "source": [
    "import os\n",
    "import pandas as pd\n",
    "\n",
    "GENERAL_DATA_PATH = os.path.join(\"Datasets\", \"general_data\", \"general_data.csv\")\n",
    "MANAGER_SURVEY_DATA_PATH = os.path.join(\"Datasets\", \"manager_survey_data\")\n",
    "EMPLOYEE_SURVEY_DATA_PATH = os.path.join(\"Datasets\", \"employee_survey_data\",)\n",
    "\n",
    "def load_general_data(general_path=GENERAL_DATA_PATH):\n",
    "    csv_path = os.path.join(general_path, \"general_data.csv\")\n",
    "    return pd.read_csv(csv_path)\n",
    "\n",
    "def load_manager_survey_data(manager_survey_data=GENERAL_DATA_PATH):\n",
    "    csv_path = os.path.join(manager_survey_data, \"manager_survey_data.csv\")\n",
    "    return pd.read_csv(csv_path)\n",
    "\n",
    "def load_employee_survey_data(employee_survey_data=GENERAL_DATA_PATH):\n",
    "    csv_path = os.path.join(employee_survey_data, \"employee_survey_data.csv\")\n",
    "    return pd.read_csv(csv_path)\n",
    "\n",
    "general = load_general_data()\n",
    "manager_survey = load_manager_survey_data()\n",
    "employee_survey = load_employee_survey_data()"
   ]
  }
 ],
 "metadata": {
  "kernelspec": {
   "display_name": "Python 3",
   "language": "python",
   "name": "python3"
  },
  "language_info": {
   "codemirror_mode": {
    "name": "ipython",
    "version": 2
   },
   "file_extension": ".py",
   "mimetype": "text/x-python",
   "name": "python",
   "nbconvert_exporter": "python",
   "pygments_lexer": "ipython2",
   "version": "2.7.6"
  }
 },
 "nbformat": 4,
 "nbformat_minor": 0
}